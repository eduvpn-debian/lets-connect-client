{
 "cells": [
  {
   "cell_type": "code",
   "execution_count": 1,
   "metadata": {
    "collapsed": true
   },
   "outputs": [],
   "source": [
    "from requests_oauthlib import OAuth2Session\n",
    "import socket\n",
    "import webbrowser\n",
    "import os\n",
    "import requests\n",
    "import base64\n",
    "import random\n",
    "import BaseHTTPServer\n",
    "import hashlib\n",
    "import json\n",
    "import nacl.signing\n",
    "import urlparse\n",
    "import re\n",
    "#import NetworkManager\n",
    "import uuid"
   ]
  },
  {
   "cell_type": "code",
   "execution_count": 2,
   "metadata": {
    "collapsed": true
   },
   "outputs": [],
   "source": [
    "eduvpn_base_uri = 'https://static.eduvpn.nl/'\n",
    "eduvpn_key = 'E5On0JTtyUVZmcWd+I/FXRm32nSq8R2ioyW7dcu/U88='"
   ]
  },
  {
   "cell_type": "code",
   "execution_count": 3,
   "metadata": {
    "collapsed": true
   },
   "outputs": [],
   "source": [
    "landing_page = \"\"\"<html>\n",
    "<head>\n",
    "<title>eduvpn</title>\n",
    "</head>\n",
    "<body>\n",
    "<h1>You can now close this window</h1>\n",
    "</body>\n",
    "</html>\n",
    "\"\"\"\n",
    "def get_open_port():\n",
    "        \"\"\"find an unused port\"\"\"\n",
    "        s = socket.socket(socket.AF_INET, socket.SOCK_STREAM)\n",
    "        s.bind((\"\",0))\n",
    "        s.listen(1)\n",
    "        port = s.getsockname()[1]\n",
    "        s.close()\n",
    "        return port\n",
    "    \n",
    "def gen_code_verifier(length=128):\n",
    "    choices = 'abcdefghijklmnopqrstuvwxyzABCDEFGHIJKLMNOPQRSTUVWXYZ0123456789-._~'\n",
    "    r = random.SystemRandom()\n",
    "    return \"\".join(r.choice(choices) for _ in range(length))\n",
    "    \n",
    "def gen_code_challenge(code_verifier):  \n",
    "    return base64.urlsafe_b64encode(hashlib.sha256(code_verifier).digest()).rstrip('=')\n",
    "\n",
    "def one_request(port):\n",
    "    # listen for one request\n",
    "    class RequestHandler(BaseHTTPServer.BaseHTTPRequestHandler):\n",
    "        def do_GET(self):\n",
    "            self.send_response(200)\n",
    "            self.send_header(\"Content-type\", \"text/html\")\n",
    "            self.end_headers()\n",
    "            self.wfile.write(landing_page)\n",
    "            self.server.path = self.path\n",
    "\n",
    "    httpd = BaseHTTPServer.HTTPServer(('', port), RequestHandler)\n",
    "    httpd.handle_request()\n",
    "    httpd.server_close()\n",
    "    parsed = urlparse.urlparse(httpd.path)\n",
    "    return urlparse.parse_qs(parsed.query)\n",
    "\n",
    "def configurator(text):\n",
    "    for line in text.split('\\n'):\n",
    "        split = line.split('#')[0].strip().split()\n",
    "        if len(split) == 0:\n",
    "            continue\n",
    "        if len(split) == 1:\n",
    "            yield (split[0], None)\n",
    "        elif len(split) == 2:\n",
    "            yield split\n",
    "        else:\n",
    "            yield (split[0], split[1:])\n",
    "            \n",
    "def parse_ovpn(configtext):\n",
    "    config = {}\n",
    "    for tag in 'ca', 'tls-auth', 'cert', 'key':\n",
    "        x = re.search('<{}>(.*)</{}>'.format(tag, tag), configtext, flags=re.S)\n",
    "        if x:\n",
    "            full_match = x.group(0)\n",
    "            config[tag] = x.group(1).replace('\\r\\n', '\\n')\n",
    "            configtext = configtext.replace(full_match, '')\n",
    "    config.update(dict(configurator(configtext)))\n",
    "    return config"
   ]
  },
  {
   "cell_type": "code",
   "execution_count": 4,
   "metadata": {
    "collapsed": true
   },
   "outputs": [],
   "source": [
    "# used for verifying signatures\n",
    "verify_key = nacl.signing.VerifyKey(eduvpn_key, encoder=nacl.encoding.Base64Encoder)"
   ]
  },
  {
   "cell_type": "code",
   "execution_count": 5,
   "metadata": {},
   "outputs": [
    {
     "data": {
      "text/plain": [
       "[u'https://nl.eduvpn.org/',\n",
       " u'https://esciencecenter.eduvpn.nl/',\n",
       " u'https://ru.eduvpn.nl/',\n",
       " u'https://surf.eduvpn.nl/',\n",
       " u'https://ut.eduvpn.nl/',\n",
       " u'https://demo.eduvpn.nl/']"
      ]
     },
     "execution_count": 5,
     "metadata": {},
     "output_type": "execute_result"
    }
   ],
   "source": [
    "# retrieve a list of instances\n",
    "inst_doc_url = eduvpn_base_uri + '/instances.json'\n",
    "inst_doc_sig_url = eduvpn_base_uri + '/instances.json.sig'\n",
    "inst_doc = requests.get(inst_doc_url)\n",
    "inst_doc_sig = requests.get(inst_doc_sig_url)\n",
    "\n",
    "# verify signature\n",
    "_ = verify_key.verify(smessage=inst_doc.content, signature=inst_doc_sig.content.decode('base64'))\n",
    "\n",
    "instances = [i['base_uri'] for i in inst_doc.json()['instances']]\n",
    "instances"
   ]
  },
  {
   "cell_type": "code",
   "execution_count": 6,
   "metadata": {
    "collapsed": true
   },
   "outputs": [],
   "source": [
    "instance = 'https://demo.eduvpn.nl/'"
   ]
  },
  {
   "cell_type": "code",
   "execution_count": 7,
   "metadata": {
    "collapsed": true
   },
   "outputs": [],
   "source": [
    "# get info from server\n",
    "info = requests.get(instance + '/info.json')\n",
    "#info_sig = requests.get(instance + '/info.json.sig')\n",
    "#_ = verify_key.verify(smessage=info.content, signature=info_sig.content.decode('base64'))"
   ]
  },
  {
   "cell_type": "code",
   "execution_count": 8,
   "metadata": {
    "collapsed": true
   },
   "outputs": [],
   "source": [
    "instance_urls = info.json()['api']['http://eduvpn.org/api#2']\n",
    "authorization_endpoint = instance_urls['authorization_endpoint']\n",
    "token_endpoint = instance_urls['token_endpoint']\n",
    "api_base_uri = instance_urls['api_base_uri']"
   ]
  },
  {
   "cell_type": "code",
   "execution_count": 9,
   "metadata": {
    "collapsed": true
   },
   "outputs": [],
   "source": [
    "port = get_open_port()\n",
    "client_id = \"org.eduvpn.app\"\n",
    "redirect_uri = 'http://127.0.0.1:%s/callback' % port\n",
    "auth_uri = 'https://demo.eduvpn.nl/portal/_oauth/authorize'\n",
    "response_type = \"code\"\n",
    "scope = \"config\"\n",
    "code_challenge_method = \"S256\"\n",
    "code_verifier = gen_code_verifier()\n",
    "code_challenge = gen_code_challenge(code_verifier)"
   ]
  },
  {
   "cell_type": "code",
   "execution_count": 10,
   "metadata": {
    "collapsed": true
   },
   "outputs": [],
   "source": [
    "oauth = OAuth2Session(client_id, redirect_uri=redirect_uri, scope=[scope])\n",
    "# we add extra arguments below for PKCE\n",
    "authorization_url, state = oauth.authorization_url(authorization_endpoint, code_challenge_method=code_challenge_method,\n",
    "                                                   code_challenge=code_challenge)"
   ]
  },
  {
   "cell_type": "code",
   "execution_count": 11,
   "metadata": {
    "scrolled": true
   },
   "outputs": [
    {
     "name": "stderr",
     "output_type": "stream",
     "text": [
      "127.0.0.1 - - [17/Jul/2017 11:14:01] \"GET /callback?code=TKeyzzpITSu0C1Oh3ZMdsryaqTuXTObJ%2FrvBQapu%2FnB1vQKq9GjqUyBxJa%2FJMP%2BJfPIcWF0KLEVPtKcrRfniD3sidHlwZSI6ImF1dGhvcml6YXRpb25fY29kZSIsImF1dGhfa2V5IjoiYTc2MWU3OGY3ZmExYWEyMDIzYThlY2MyMmY4ODY0NjQiLCJ1c2VyX2lkIjoiZTExMzdlZjc0MmFkZjgzMDhhYWI3ZTBhNmI2NDNjOGUyMmNiZjNmYiIsImNsaWVudF9pZCI6Im9yZy5lZHV2cG4uYXBwIiwic2NvcGUiOiJjb25maWciLCJyZWRpcmVjdF91cmkiOiJodHRwOlwvXC8xMjcuMC4wLjE6NTAzOTBcL2NhbGxiYWNrIiwiY29kZV9jaGFsbGVuZ2UiOiJkVXBjLWFGNUxONnNiYWg4aEFoVkhLN1BQNlJ3RlVQbm9EMUdqNVdNVk4wIiwiZXhwaXJlc19hdCI6IjIwMTctMDctMTcgMDg6MTk6MDEifQ%3D%3D&state=5m2sxDbd28UCrB659vqEfYdsHkqvn8 HTTP/1.1\" 200 -\n"
     ]
    }
   ],
   "source": [
    "webbrowser.open(authorization_url)\n",
    "response = one_request(port)"
   ]
  },
  {
   "cell_type": "code",
   "execution_count": 12,
   "metadata": {
    "collapsed": true
   },
   "outputs": [],
   "source": [
    "token = oauth.fetch_token(token_endpoint, code=response['code'][0], code_verifier=code_verifier)"
   ]
  },
  {
   "cell_type": "code",
   "execution_count": 13,
   "metadata": {
    "collapsed": true
   },
   "outputs": [],
   "source": [
    "#profile_list = oauth.get(api_base_uri + '/profile_list').content"
   ]
  },
  {
   "cell_type": "code",
   "execution_count": 14,
   "metadata": {
    "collapsed": true
   },
   "outputs": [],
   "source": [
    "#user_info = oauth.get(api_base_uri + '/user_info').content"
   ]
  },
  {
   "cell_type": "code",
   "execution_count": 15,
   "metadata": {
    "collapsed": true
   },
   "outputs": [],
   "source": [
    "#user_messages = oauth.get(api_base_uri + '/user_messages').content"
   ]
  },
  {
   "cell_type": "code",
   "execution_count": 16,
   "metadata": {
    "collapsed": true
   },
   "outputs": [],
   "source": [
    "#system_messages = oauth.get(api_base_uri + '/system_messages').content"
   ]
  },
  {
   "cell_type": "code",
   "execution_count": 17,
   "metadata": {
    "collapsed": true
   },
   "outputs": [],
   "source": [
    "create_config = oauth.post(api_base_uri + '/create_config', data={'display_name': 'notebook', 'profile_id': 'internet'})"
   ]
  },
  {
   "cell_type": "code",
   "execution_count": 18,
   "metadata": {
    "collapsed": true
   },
   "outputs": [],
   "source": [
    "create_keypair = oauth.post(api_base_uri + '/create_keypair', data={'display_name': 'notebook'})"
   ]
  },
  {
   "cell_type": "code",
   "execution_count": 19,
   "metadata": {
    "collapsed": true
   },
   "outputs": [],
   "source": [
    "keypair = json.loads(create_keypair.content)['create_keypair']['data']\n",
    "cert = keypair['certificate']\n",
    "key = keypair['private_key']"
   ]
  },
  {
   "cell_type": "code",
   "execution_count": 20,
   "metadata": {
    "collapsed": true
   },
   "outputs": [],
   "source": [
    "profile_config = oauth.get(api_base_uri + '/profile_config?profile_id=internet').content"
   ]
  },
  {
   "cell_type": "code",
   "execution_count": 23,
   "metadata": {
    "collapsed": true
   },
   "outputs": [],
   "source": [
    "config = parse_ovpn(profile_config)\n",
    "#config.update({'cert': cert, 'key': key})"
   ]
  },
  {
   "cell_type": "code",
   "execution_count": 22,
   "metadata": {
    "collapsed": true
   },
   "outputs": [],
   "source": [
    "settings = {'connection': {'id': 'eduvpn',\n",
    "  'type': 'vpn',\n",
    "  'uuid': str(uuid.uuid4())},\n",
    " 'ipv4': {\n",
    "  'method': 'auto',\n",
    "},\n",
    " 'ipv6': {\n",
    "  'method': 'auto',\n",
    "},\n",
    " 'vpn': {'data': {'auth': config.get('auth', 'SHA256'),\n",
    "   'ca': config['ca'],\n",
    "   'cert': config['cert'],\n",
    "   'cipher': config.get('cipher', 'AES-256-CBC'),\n",
    "   'comp-lzo': config.get('auth', 'adaptive'),\n",
    "   'connection-type': config.get('connection-type', 'tls'),\n",
    "   'dev': 'tun',\n",
    "   'key': config['key'],\n",
    "   'remote': \":\".join(config['remote']),\n",
    "   'remote-cert-tls': 'server',\n",
    "   'ta': config['tls-auth'],\n",
    "   'ta-dir': config.get('key-direction', '1'),\n",
    "   'tls-cipher': config.get('tls-cipher','TLS-ECDHE-RSA-WITH-AES-256-GCM-SHA384')},\n",
    "  'service-type': 'org.freedesktop.NetworkManager.openvpn'}\n",
    "}"
   ]
  },
  {
   "cell_type": "code",
   "execution_count": 24,
   "metadata": {},
   "outputs": [
    {
     "data": {
      "text/plain": [
       "{'auth': 'SHA256',\n",
       " 'ca': '\\n-----BEGIN CERTIFICATE-----\\nMIIFJDCCAwygAwIBAgIJAJ1NwjmG+n/3MA0GCSqGSIb3DQEBCwUAMBExDzANBgNV\\nBAMTBlZQTiBDQTAeFw0xNzAyMjcxNDA5NTJaFw0yMjAyMjcxNDA5NTJaMBExDzAN\\nBgNVBAMTBlZQTiBDQTCCAiIwDQYJKoZIhvcNAQEBBQADggIPADCCAgoCggIBALOW\\n8ZrqXnNnqaojP90UkGIXbXLl7U8kborvKF/gQm6gsk3O0obhTVDdEj3kYKFGxmqu\\nQHJo3C2amro4wVIv/BhXzIv6oP11Va/6FcwAYj8disNcxJgXWSUdARrEIC3PME58\\nLd+a2jvXL/m8xBp+qVThvfmq2Pak1olhbgDueUSsQYiQZMq2rX3/1f+SInxZt3kJ\\nZak2nNf7uZ1+XaoR78gkBHqszXlaFdPByC2bQn0vrsGurUHTXO843MDfsckbeNEE\\n0LWOOSBzGwYnjfGmm/JzM06jHq+vyfrFwl28uNuCVRwJpvmjJC8+O8TYFgOrx8Oe\\nQ7gbC+Wrx1Nv/u2j59ofTPk2R5oNdrYt3h5YVv0WocHmiYb+CzdwxBvyZ50Uy1+x\\n8CKV1gYtjPBc6OOMNYyXfXlu0qtkLljV/Pdt4hxUNyyptPvJgP8xLg+z+RoZZmxV\\n0XEZpfYV4x6m1/8sEqYANx+5U+3KXZznUXlevyLqgS5tn3hGuxwRuxb5AifwRRmF\\nz5wSVuDilCGnzNGyqJvP4rKAlGakQx8nyFIsdMsa7OpQVd4n+ex5HhfMlSa7Bvpj\\nDK+8p3ynd11jihCkFAzOqldBN2hR1gCjx2b52zLk0vzTyyiCEebqb9hqKf+jb3/j\\nFyE9gzlm2uR9rvvyVKnsDnuCb5vsnWdPTUvBov6tAgMBAAGjfzB9MB0GA1UdDgQW\\nBBTmp4VYXwUkBWl7cK4WspgpaIyI8zBBBgNVHSMEOjA4gBTmp4VYXwUkBWl7cK4W\\nspgpaIyI86EVpBMwETEPMA0GA1UEAxMGVlBOIENBggkAnU3COYb6f/cwDAYDVR0T\\nBAUwAwEB/zALBgNVHQ8EBAMCAQYwDQYJKoZIhvcNAQELBQADggIBACIReoZBwxA+\\nbifEWHPpbS1RceRBzk+QUNjRmQrT+hCdzpHro8SdbaPg7eRG7HvC5zi6tvxLirn/\\n0ThsnRb5xWkDYQ2BXponBTnFRyYaiaXyEuJTAvfbF51R3ycy03tl4v15UtzW/Spa\\nn1CqNVHH+vinqSo1cXV17b9PFcfohA2n86tDwkqOC+0fPX3KO2v8ALANxNYEunzW\\nxWPQM0wTgoXuUpOx8/UkGYVxOnwy9uHtL4HS1+5tyTjKv5Ld8NktDPiNvSHTV8zt\\nS5sb3PokhBktJxEy8MzamAwuJEpiLikYPUJvoNI1XzH9JJR6cI1rfGtABb8GCikA\\n9KxDmz8SBuJVjYuWA/d0DlLAAhUiq+gIkuh1YaC6dhjUxhQAxMe/WW38KHV9BlrR\\nPRTJkpeEl44pu4vsvU/XyAoUijFwwuazzbqLTNwc7h7kM7Vq/beCyN3HkyW44sla\\nWrnstYLLSuVkwLmg5h+ltra2rqqyRTYX66+eKF8gj4p/xP0JAiAsBSLKztuSodce\\nrhYC3Jy9EQ0MBP0oujwdOLSLMoGqM4xZPiMmsELgOVoeX5ypk2DPpWwNeOYVsDrV\\nb2VJ/qPt0tfQjGIEYba34wNAsmuI/WLjayKVHz6zwG1nueG+9/JHVW1lYOv3iwXe\\nnIYUto+cPuPcEEuvyVeOT6UjzKgnLbmY\\n-----END CERTIFICATE-----\\n',\n",
       " 'cipher': 'AES-256-CBC',\n",
       " 'client': None,\n",
       " 'comp-lzo': None,\n",
       " 'dev': 'tun',\n",
       " 'key-direction': '1',\n",
       " 'nobind': None,\n",
       " 'remote': ['internet.demo.eduvpn.nl', '443', 'tcp'],\n",
       " 'remote-cert-tls': 'server',\n",
       " 'server-poll-timeout': '10',\n",
       " 'tls-auth': '\\n#\\n# 2048 bit OpenVPN static key\\n#\\n-----BEGIN OpenVPN Static key V1-----\\nbbb4a1bc4e97ce6cfa7ea930c3bb7feb\\ne1af60b6b06a6acd39c38c29d6c0197c\\n69577c09b349787b7e9336a7e655a5bc\\n484804c5535d50c428794a68ba65b432\\n51c3ef467fdf867a1cc951ae6ebd995a\\n85dab27a52c30d0e31b4ce80bfb61dab\\nba096690d73fbd8cd41ffff231c1c17e\\n781c4e76285ba799cbd81bb4473b3f45\\nef022cedf84639dc04b8fb204066f31e\\ne1a42d4a8521218ac56789e3c10848e7\\nd7b127ab548377645dd82c14fd5db3b2\\n8487de31db848a1a476616ab4650a55c\\n8349bea907fcbc333282879306cee469\\nb0b85a410294cdea5eb29ae009f98687\\n367e7c0aa4d23d8af9d948f992fbd10a\\n8cb2f25feff977b15b3249bee779659c\\n-----END OpenVPN Static key V1-----\\n',\n",
       " 'tls-cipher': 'TLS-ECDHE-RSA-WITH-AES-256-GCM-SHA384',\n",
       " 'tls-version-min': '1.2',\n",
       " 'verb': '3'}"
      ]
     },
     "execution_count": 24,
     "metadata": {},
     "output_type": "execute_result"
    }
   ],
   "source": [
    "config"
   ]
  }
 ],
 "metadata": {
  "kernelspec": {
   "display_name": "Python 2",
   "language": "python",
   "name": "python2"
  },
  "language_info": {
   "codemirror_mode": {
    "name": "ipython",
    "version": 2
   },
   "file_extension": ".py",
   "mimetype": "text/x-python",
   "name": "python",
   "nbconvert_exporter": "python",
   "pygments_lexer": "ipython2",
   "version": "2.7.13"
  }
 },
 "nbformat": 4,
 "nbformat_minor": 2
}
