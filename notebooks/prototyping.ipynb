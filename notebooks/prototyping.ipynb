{
 "cells": [
  {
   "cell_type": "code",
   "execution_count": 1,
   "metadata": {
    "collapsed": true
   },
   "outputs": [],
   "source": [
    "import NetworkManager\n",
    "import uuid"
   ]
  },
  {
   "cell_type": "code",
   "execution_count": 2,
   "metadata": {
    "collapsed": false
   },
   "outputs": [],
   "source": [
    "settings = {'connection': {'id': 'eduvpn',\n",
    "  'type': 'vpn',\n",
    "  'uuid': str(uuid.uuid4())},\n",
    " 'ipv4': {\n",
    "  'method': 'auto',\n",
    "},\n",
    " 'ipv6': {\n",
    "  'method': 'auto',\n",
    "},\n",
    " 'vpn': {'data': {'auth': 'SHA256',\n",
    "   'ca': '/home/gijs/.cert/nm-openvpn/demo.eduvpn.nl_internet_20170706_debian-vm-ca.pem',\n",
    "   'cert': '/home/gijs/.cert/nm-openvpn/demo.eduvpn.nl_internet_20170706_debian-vm-cert.pem',\n",
    "   'cipher': 'AES-256-CBC',\n",
    "   'comp-lzo': 'adaptive',\n",
    "   'connection-type': 'tls',\n",
    "   'dev': 'tun',\n",
    "   'key': '/home/gijs/.cert/nm-openvpn/demo.eduvpn.nl_internet_20170706_debian-vm-key.pem',\n",
    "   'remote': 'internet.demo.eduvpn.nl:1194:udp, internet.demo.eduvpn.nl:1194:tcp, internet.demo.eduvpn.nl:443:tcp',\n",
    "   'remote-cert-tls': 'server',\n",
    "   'ta': '/home/gijs/.cert/nm-openvpn/demo.eduvpn.nl_internet_20170706_debian-vm-tls-auth.pem',\n",
    "   'ta-dir': '1',\n",
    "   'tls-cipher': 'TLS-ECDHE-RSA-WITH-AES-256-GCM-SHA384'},\n",
    "  'service-type': 'org.freedesktop.NetworkManager.openvpn'}\n",
    "           }"
   ]
  },
  {
   "cell_type": "code",
   "execution_count": 3,
   "metadata": {
    "collapsed": false
   },
   "outputs": [],
   "source": [
    "connection = NetworkManager.Settings.AddConnection(settings)\n"
   ]
  }
 ],
 "metadata": {
  "kernelspec": {
   "display_name": "Python 2",
   "language": "python",
   "name": "python2"
  },
  "language_info": {
   "codemirror_mode": {
    "name": "ipython",
    "version": 2
   },
   "file_extension": ".py",
   "mimetype": "text/x-python",
   "name": "python",
   "nbconvert_exporter": "python",
   "pygments_lexer": "ipython2",
   "version": "2.7.13"
  }
 },
 "nbformat": 4,
 "nbformat_minor": 2
}
